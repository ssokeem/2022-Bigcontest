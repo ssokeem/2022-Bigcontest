{
 "cells": [
  {
   "cell_type": "code",
   "execution_count": 86,
   "id": "821a288f",
   "metadata": {},
   "outputs": [],
   "source": [
    "import pandas as pd\n",
    "import numpy as np\n",
    "import matplotlib.pyplot as plt\n",
    "%matplotlib inline"
   ]
  },
  {
   "cell_type": "code",
   "execution_count": 87,
   "id": "2e95ee04",
   "metadata": {},
   "outputs": [],
   "source": [
    "enter = pd.read_csv('./data/JT_TRRSRT_ENTRN_LIST.csv', encoding='cp949')"
   ]
  },
  {
   "cell_type": "code",
   "execution_count": 88,
   "id": "d659de41",
   "metadata": {},
   "outputs": [
    {
     "data": {
      "text/html": [
       "<div>\n",
       "<style scoped>\n",
       "    .dataframe tbody tr th:only-of-type {\n",
       "        vertical-align: middle;\n",
       "    }\n",
       "\n",
       "    .dataframe tbody tr th {\n",
       "        vertical-align: top;\n",
       "    }\n",
       "\n",
       "    .dataframe thead th {\n",
       "        text-align: right;\n",
       "    }\n",
       "</style>\n",
       "<table border=\"1\" class=\"dataframe\">\n",
       "  <thead>\n",
       "    <tr style=\"text-align: right;\">\n",
       "      <th></th>\n",
       "      <th>CL_NM</th>\n",
       "      <th>TRRSRT_NM</th>\n",
       "      <th>ADDR</th>\n",
       "      <th>TEL_NO</th>\n",
       "      <th>TOT_ENTRN_NMPR_CO</th>\n",
       "      <th>SETLE_PRICE</th>\n",
       "      <th>ENTRN_DE</th>\n",
       "    </tr>\n",
       "  </thead>\n",
       "  <tbody>\n",
       "    <tr>\n",
       "      <th>0</th>\n",
       "      <td>기타</td>\n",
       "      <td>봄그리고가을리조트</td>\n",
       "      <td>제주 서귀포시 성산읍 해맞이해안로 2660 시흥근생및주택</td>\n",
       "      <td>647842211.0</td>\n",
       "      <td>2</td>\n",
       "      <td>18000</td>\n",
       "      <td>20220301</td>\n",
       "    </tr>\n",
       "    <tr>\n",
       "      <th>1</th>\n",
       "      <td>기타</td>\n",
       "      <td>토스카나호텔</td>\n",
       "      <td>제주 서귀포시 용흥로66번길 158-7</td>\n",
       "      <td>647357000.0</td>\n",
       "      <td>2</td>\n",
       "      <td>57230</td>\n",
       "      <td>20220301</td>\n",
       "    </tr>\n",
       "    <tr>\n",
       "      <th>2</th>\n",
       "      <td>기타</td>\n",
       "      <td>산방산탄산온천</td>\n",
       "      <td>제주 서귀포시 안덕면 사계북로41번길 192</td>\n",
       "      <td>647928300.0</td>\n",
       "      <td>5</td>\n",
       "      <td>37500</td>\n",
       "      <td>20220301</td>\n",
       "    </tr>\n",
       "    <tr>\n",
       "      <th>3</th>\n",
       "      <td>기타</td>\n",
       "      <td>해비치호텔앤드리조트(섬모라)</td>\n",
       "      <td>제주 서귀포시 표선면 민속해안로 537</td>\n",
       "      <td>647808322.0</td>\n",
       "      <td>1</td>\n",
       "      <td>30600</td>\n",
       "      <td>20220301</td>\n",
       "    </tr>\n",
       "    <tr>\n",
       "      <th>4</th>\n",
       "      <td>레저관광</td>\n",
       "      <td>우도잠수함</td>\n",
       "      <td>제주 서귀포시 성산읍 성산등용로 112-7</td>\n",
       "      <td>647842333.0</td>\n",
       "      <td>2</td>\n",
       "      <td>82400</td>\n",
       "      <td>20220301</td>\n",
       "    </tr>\n",
       "  </tbody>\n",
       "</table>\n",
       "</div>"
      ],
      "text/plain": [
       "  CL_NM        TRRSRT_NM                             ADDR       TEL_NO  \\\n",
       "0    기타        봄그리고가을리조트  제주 서귀포시 성산읍 해맞이해안로 2660 시흥근생및주택  647842211.0   \n",
       "1    기타           토스카나호텔            제주 서귀포시 용흥로66번길 158-7  647357000.0   \n",
       "2    기타          산방산탄산온천         제주 서귀포시 안덕면 사계북로41번길 192  647928300.0   \n",
       "3    기타  해비치호텔앤드리조트(섬모라)            제주 서귀포시 표선면 민속해안로 537  647808322.0   \n",
       "4  레저관광            우도잠수함          제주 서귀포시 성산읍 성산등용로 112-7  647842333.0   \n",
       "\n",
       "   TOT_ENTRN_NMPR_CO  SETLE_PRICE  ENTRN_DE  \n",
       "0                  2        18000  20220301  \n",
       "1                  2        57230  20220301  \n",
       "2                  5        37500  20220301  \n",
       "3                  1        30600  20220301  \n",
       "4                  2        82400  20220301  "
      ]
     },
     "execution_count": 88,
     "metadata": {},
     "output_type": "execute_result"
    }
   ],
   "source": [
    "enter.head()"
   ]
  },
  {
   "cell_type": "code",
   "execution_count": 89,
   "id": "183f561c",
   "metadata": {},
   "outputs": [
    {
     "data": {
      "text/plain": [
       "array(['기타', '레저관광', '테마파크', '공연전시', '키즈', '자연', '테마관광지', '레저/체험', '문화관광',\n",
       "       '음식점', '숙박', '체험'], dtype=object)"
      ]
     },
     "execution_count": 89,
     "metadata": {},
     "output_type": "execute_result"
    }
   ],
   "source": [
    "enter['CL_NM'].unique()"
   ]
  },
  {
   "cell_type": "code",
   "execution_count": 90,
   "id": "51633dfe",
   "metadata": {},
   "outputs": [],
   "source": [
    "enter_food = enter[enter['CL_NM']=='음식점']"
   ]
  },
  {
   "cell_type": "code",
   "execution_count": 91,
   "id": "78e27d90",
   "metadata": {},
   "outputs": [
    {
     "data": {
      "text/plain": [
       "array(['신라호텔제주 뷔페', '봉이네해물짜장', '디저트카페 섬타르', '해비치호텔앤드리조트 섬모라',\n",
       "       '망고레이(섭지코지점)', '영주말가든', '환상의짜장', '유진이네횟집'], dtype=object)"
      ]
     },
     "execution_count": 91,
     "metadata": {},
     "output_type": "execute_result"
    }
   ],
   "source": [
    "enter_food['TRRSRT_NM'].unique()"
   ]
  },
  {
   "cell_type": "code",
   "execution_count": 92,
   "id": "3f2fb49b",
   "metadata": {},
   "outputs": [],
   "source": [
    "enter_stay = enter[enter['CL_NM']=='숙박']"
   ]
  },
  {
   "cell_type": "code",
   "execution_count": 93,
   "id": "8459d645",
   "metadata": {},
   "outputs": [
    {
     "data": {
      "text/plain": [
       "array(['토스카나호텔'], dtype=object)"
      ]
     },
     "execution_count": 93,
     "metadata": {},
     "output_type": "execute_result"
    }
   ],
   "source": [
    "enter_stay['TRRSRT_NM'].unique()"
   ]
  },
  {
   "cell_type": "code",
   "execution_count": 94,
   "id": "3946c704",
   "metadata": {},
   "outputs": [
    {
     "name": "stderr",
     "output_type": "stream",
     "text": [
      "/var/folders/_t/yrhf8bh167g1b6qb6gqjrf_c0000gn/T/ipykernel_1224/3210923376.py:1: SettingWithCopyWarning: \n",
      "A value is trying to be set on a copy of a slice from a DataFrame\n",
      "\n",
      "See the caveats in the documentation: https://pandas.pydata.org/pandas-docs/stable/user_guide/indexing.html#returning-a-view-versus-a-copy\n",
      "  enter_food.drop(['CL_NM', 'TEL_NO'], axis=1, inplace=True)\n"
     ]
    }
   ],
   "source": [
    "enter_food.drop(['CL_NM', 'TEL_NO'], axis=1, inplace=True)"
   ]
  },
  {
   "cell_type": "code",
   "execution_count": 95,
   "id": "95ccc27f",
   "metadata": {
    "scrolled": false
   },
   "outputs": [
    {
     "data": {
      "text/html": [
       "<div>\n",
       "<style scoped>\n",
       "    .dataframe tbody tr th:only-of-type {\n",
       "        vertical-align: middle;\n",
       "    }\n",
       "\n",
       "    .dataframe tbody tr th {\n",
       "        vertical-align: top;\n",
       "    }\n",
       "\n",
       "    .dataframe thead th {\n",
       "        text-align: right;\n",
       "    }\n",
       "</style>\n",
       "<table border=\"1\" class=\"dataframe\">\n",
       "  <thead>\n",
       "    <tr style=\"text-align: right;\">\n",
       "      <th></th>\n",
       "      <th>TRRSRT_NM</th>\n",
       "      <th>ADDR</th>\n",
       "      <th>TOT_ENTRN_NMPR_CO</th>\n",
       "      <th>SETLE_PRICE</th>\n",
       "      <th>ENTRN_DE</th>\n",
       "    </tr>\n",
       "  </thead>\n",
       "  <tbody>\n",
       "    <tr>\n",
       "      <th>188228</th>\n",
       "      <td>신라호텔제주 뷔페</td>\n",
       "      <td>제주특별자치도 서귀포시 중문관광로72번길 75</td>\n",
       "      <td>2</td>\n",
       "      <td>208800</td>\n",
       "      <td>20210901</td>\n",
       "    </tr>\n",
       "    <tr>\n",
       "      <th>188229</th>\n",
       "      <td>신라호텔제주 뷔페</td>\n",
       "      <td>제주특별자치도 서귀포시 중문관광로72번길 75</td>\n",
       "      <td>1</td>\n",
       "      <td>104400</td>\n",
       "      <td>20210901</td>\n",
       "    </tr>\n",
       "    <tr>\n",
       "      <th>188230</th>\n",
       "      <td>신라호텔제주 뷔페</td>\n",
       "      <td>제주특별자치도 서귀포시 중문관광로72번길 75</td>\n",
       "      <td>1</td>\n",
       "      <td>104400</td>\n",
       "      <td>20210901</td>\n",
       "    </tr>\n",
       "    <tr>\n",
       "      <th>188231</th>\n",
       "      <td>신라호텔제주 뷔페</td>\n",
       "      <td>제주특별자치도 서귀포시 중문관광로72번길 75</td>\n",
       "      <td>2</td>\n",
       "      <td>208800</td>\n",
       "      <td>20210901</td>\n",
       "    </tr>\n",
       "    <tr>\n",
       "      <th>188232</th>\n",
       "      <td>신라호텔제주 뷔페</td>\n",
       "      <td>제주특별자치도 서귀포시 중문관광로72번길 75</td>\n",
       "      <td>2</td>\n",
       "      <td>187600</td>\n",
       "      <td>20210901</td>\n",
       "    </tr>\n",
       "    <tr>\n",
       "      <th>...</th>\n",
       "      <td>...</td>\n",
       "      <td>...</td>\n",
       "      <td>...</td>\n",
       "      <td>...</td>\n",
       "      <td>...</td>\n",
       "    </tr>\n",
       "    <tr>\n",
       "      <th>992034</th>\n",
       "      <td>신라호텔제주 뷔페</td>\n",
       "      <td>제주 서귀포시 중문관광로72번길 75</td>\n",
       "      <td>2</td>\n",
       "      <td>187600</td>\n",
       "      <td>20211125</td>\n",
       "    </tr>\n",
       "    <tr>\n",
       "      <th>992035</th>\n",
       "      <td>신라호텔제주 뷔페</td>\n",
       "      <td>제주 서귀포시 중문관광로72번길 75</td>\n",
       "      <td>2</td>\n",
       "      <td>208800</td>\n",
       "      <td>20211125</td>\n",
       "    </tr>\n",
       "    <tr>\n",
       "      <th>992036</th>\n",
       "      <td>신라호텔제주 뷔페</td>\n",
       "      <td>제주 서귀포시 중문관광로72번길 75</td>\n",
       "      <td>2</td>\n",
       "      <td>208800</td>\n",
       "      <td>20211125</td>\n",
       "    </tr>\n",
       "    <tr>\n",
       "      <th>992037</th>\n",
       "      <td>신라호텔제주 뷔페</td>\n",
       "      <td>제주 서귀포시 중문관광로72번길 75</td>\n",
       "      <td>2</td>\n",
       "      <td>187600</td>\n",
       "      <td>20211125</td>\n",
       "    </tr>\n",
       "    <tr>\n",
       "      <th>992038</th>\n",
       "      <td>신라호텔제주 뷔페</td>\n",
       "      <td>제주 서귀포시 중문관광로72번길 75</td>\n",
       "      <td>2</td>\n",
       "      <td>187600</td>\n",
       "      <td>20211125</td>\n",
       "    </tr>\n",
       "  </tbody>\n",
       "</table>\n",
       "<p>6224 rows × 5 columns</p>\n",
       "</div>"
      ],
      "text/plain": [
       "        TRRSRT_NM                       ADDR  TOT_ENTRN_NMPR_CO  SETLE_PRICE  \\\n",
       "188228  신라호텔제주 뷔페  제주특별자치도 서귀포시 중문관광로72번길 75                  2       208800   \n",
       "188229  신라호텔제주 뷔페  제주특별자치도 서귀포시 중문관광로72번길 75                  1       104400   \n",
       "188230  신라호텔제주 뷔페  제주특별자치도 서귀포시 중문관광로72번길 75                  1       104400   \n",
       "188231  신라호텔제주 뷔페  제주특별자치도 서귀포시 중문관광로72번길 75                  2       208800   \n",
       "188232  신라호텔제주 뷔페  제주특별자치도 서귀포시 중문관광로72번길 75                  2       187600   \n",
       "...           ...                        ...                ...          ...   \n",
       "992034  신라호텔제주 뷔페       제주 서귀포시 중문관광로72번길 75                  2       187600   \n",
       "992035  신라호텔제주 뷔페       제주 서귀포시 중문관광로72번길 75                  2       208800   \n",
       "992036  신라호텔제주 뷔페       제주 서귀포시 중문관광로72번길 75                  2       208800   \n",
       "992037  신라호텔제주 뷔페       제주 서귀포시 중문관광로72번길 75                  2       187600   \n",
       "992038  신라호텔제주 뷔페       제주 서귀포시 중문관광로72번길 75                  2       187600   \n",
       "\n",
       "        ENTRN_DE  \n",
       "188228  20210901  \n",
       "188229  20210901  \n",
       "188230  20210901  \n",
       "188231  20210901  \n",
       "188232  20210901  \n",
       "...          ...  \n",
       "992034  20211125  \n",
       "992035  20211125  \n",
       "992036  20211125  \n",
       "992037  20211125  \n",
       "992038  20211125  \n",
       "\n",
       "[6224 rows x 5 columns]"
      ]
     },
     "execution_count": 95,
     "metadata": {},
     "output_type": "execute_result"
    }
   ],
   "source": [
    "enter_food"
   ]
  },
  {
   "cell_type": "code",
   "execution_count": 96,
   "id": "21a9a737",
   "metadata": {},
   "outputs": [],
   "source": [
    "enter_food1 = enter_food.drop('SETLE_PRICE', axis=1)"
   ]
  },
  {
   "cell_type": "code",
   "execution_count": 97,
   "id": "3c281d1b",
   "metadata": {},
   "outputs": [],
   "source": [
    "enter_food1 = enter_food1.groupby(['TRRSRT_NM', 'ADDR', 'ENTRN_DE']).sum()"
   ]
  },
  {
   "cell_type": "code",
   "execution_count": 98,
   "id": "70f18530",
   "metadata": {},
   "outputs": [],
   "source": [
    "enter_food1 = enter_food1.T.unstack().reset_index()"
   ]
  },
  {
   "cell_type": "code",
   "execution_count": 99,
   "id": "d3e5969a",
   "metadata": {},
   "outputs": [],
   "source": [
    "enter_food1.drop('level_3', axis=1, inplace=True)\n",
    "enter_food1.rename(columns = {0:'AVERAGE_VISITOR'}, inplace=True)"
   ]
  },
  {
   "cell_type": "code",
   "execution_count": 100,
   "id": "9e999db1",
   "metadata": {},
   "outputs": [],
   "source": [
    "enter_food1 = enter_food1.drop('ENTRN_DE', axis=1)\n",
    "enter_food1 = enter_food1.groupby(['TRRSRT_NM', 'ADDR']).mean()"
   ]
  },
  {
   "cell_type": "code",
   "execution_count": 101,
   "id": "91cd3096",
   "metadata": {},
   "outputs": [],
   "source": [
    "enter_food1 = enter_food1.T.unstack().reset_index()"
   ]
  },
  {
   "cell_type": "code",
   "execution_count": 102,
   "id": "6ce657ba",
   "metadata": {},
   "outputs": [],
   "source": [
    "enter_food1.drop('level_2', axis=1, inplace=True)\n",
    "enter_food1.rename(columns = {0:'AVERAGE_VISITOR'}, inplace=True)"
   ]
  },
  {
   "cell_type": "code",
   "execution_count": 103,
   "id": "1733fcf5",
   "metadata": {},
   "outputs": [
    {
     "data": {
      "text/html": [
       "<div>\n",
       "<style scoped>\n",
       "    .dataframe tbody tr th:only-of-type {\n",
       "        vertical-align: middle;\n",
       "    }\n",
       "\n",
       "    .dataframe tbody tr th {\n",
       "        vertical-align: top;\n",
       "    }\n",
       "\n",
       "    .dataframe thead th {\n",
       "        text-align: right;\n",
       "    }\n",
       "</style>\n",
       "<table border=\"1\" class=\"dataframe\">\n",
       "  <thead>\n",
       "    <tr style=\"text-align: right;\">\n",
       "      <th></th>\n",
       "      <th>TRRSRT_NM</th>\n",
       "      <th>ADDR</th>\n",
       "      <th>AVERAGE_VISITOR</th>\n",
       "    </tr>\n",
       "  </thead>\n",
       "  <tbody>\n",
       "    <tr>\n",
       "      <th>0</th>\n",
       "      <td>디저트카페 섬타르</td>\n",
       "      <td>제주특별자치도 제주시 다랑곶1길 9</td>\n",
       "      <td>2.714286</td>\n",
       "    </tr>\n",
       "    <tr>\n",
       "      <th>1</th>\n",
       "      <td>망고레이(섭지코지점)</td>\n",
       "      <td>제주 서귀포시 성산읍 신양로 102</td>\n",
       "      <td>5.500000</td>\n",
       "    </tr>\n",
       "    <tr>\n",
       "      <th>2</th>\n",
       "      <td>봉이네해물짜장</td>\n",
       "      <td>제주특별자치도 서귀포시 대정읍 가파로 239</td>\n",
       "      <td>2.000000</td>\n",
       "    </tr>\n",
       "    <tr>\n",
       "      <th>3</th>\n",
       "      <td>신라호텔제주 뷔페</td>\n",
       "      <td>제주 서귀포시 중문관광로72번길 75</td>\n",
       "      <td>90.160000</td>\n",
       "    </tr>\n",
       "    <tr>\n",
       "      <th>4</th>\n",
       "      <td>신라호텔제주 뷔페</td>\n",
       "      <td>제주특별자치도 서귀포시 중문관광로72번길 75</td>\n",
       "      <td>175.508197</td>\n",
       "    </tr>\n",
       "    <tr>\n",
       "      <th>5</th>\n",
       "      <td>영주말가든</td>\n",
       "      <td>제주 제주시 연북로 196</td>\n",
       "      <td>3.000000</td>\n",
       "    </tr>\n",
       "    <tr>\n",
       "      <th>6</th>\n",
       "      <td>유진이네횟집</td>\n",
       "      <td>제주 제주시 삼무로 16 삼주빌딩</td>\n",
       "      <td>4.000000</td>\n",
       "    </tr>\n",
       "    <tr>\n",
       "      <th>7</th>\n",
       "      <td>해비치호텔앤드리조트 섬모라</td>\n",
       "      <td>제주특별자치도 서귀포시 표선면 민속해안로 537</td>\n",
       "      <td>17.080000</td>\n",
       "    </tr>\n",
       "    <tr>\n",
       "      <th>8</th>\n",
       "      <td>환상의짜장</td>\n",
       "      <td>제주특별자치도 서귀포시 대정읍 마라로 45 환상의짜장</td>\n",
       "      <td>2.000000</td>\n",
       "    </tr>\n",
       "  </tbody>\n",
       "</table>\n",
       "</div>"
      ],
      "text/plain": [
       "        TRRSRT_NM                           ADDR  AVERAGE_VISITOR\n",
       "0       디저트카페 섬타르            제주특별자치도 제주시 다랑곶1길 9         2.714286\n",
       "1     망고레이(섭지코지점)            제주 서귀포시 성산읍 신양로 102         5.500000\n",
       "2         봉이네해물짜장       제주특별자치도 서귀포시 대정읍 가파로 239         2.000000\n",
       "3       신라호텔제주 뷔페           제주 서귀포시 중문관광로72번길 75        90.160000\n",
       "4       신라호텔제주 뷔페      제주특별자치도 서귀포시 중문관광로72번길 75       175.508197\n",
       "5           영주말가든                 제주 제주시 연북로 196         3.000000\n",
       "6          유진이네횟집             제주 제주시 삼무로 16 삼주빌딩         4.000000\n",
       "7  해비치호텔앤드리조트 섬모라     제주특별자치도 서귀포시 표선면 민속해안로 537        17.080000\n",
       "8           환상의짜장  제주특별자치도 서귀포시 대정읍 마라로 45 환상의짜장         2.000000"
      ]
     },
     "execution_count": 103,
     "metadata": {},
     "output_type": "execute_result"
    }
   ],
   "source": [
    "enter_food1"
   ]
  },
  {
   "cell_type": "code",
   "execution_count": 116,
   "id": "f3ac691f",
   "metadata": {},
   "outputs": [],
   "source": [
    "enter_food1.loc[3, 'AVERAGE_VISITOR'] = 150.697674"
   ]
  },
  {
   "cell_type": "code",
   "execution_count": 118,
   "id": "a4499a22",
   "metadata": {},
   "outputs": [],
   "source": [
    "enter_food2 = enter_food1.drop(4, axis=0)"
   ]
  },
  {
   "cell_type": "code",
   "execution_count": 119,
   "id": "7287df30",
   "metadata": {},
   "outputs": [
    {
     "data": {
      "text/html": [
       "<div>\n",
       "<style scoped>\n",
       "    .dataframe tbody tr th:only-of-type {\n",
       "        vertical-align: middle;\n",
       "    }\n",
       "\n",
       "    .dataframe tbody tr th {\n",
       "        vertical-align: top;\n",
       "    }\n",
       "\n",
       "    .dataframe thead th {\n",
       "        text-align: right;\n",
       "    }\n",
       "</style>\n",
       "<table border=\"1\" class=\"dataframe\">\n",
       "  <thead>\n",
       "    <tr style=\"text-align: right;\">\n",
       "      <th></th>\n",
       "      <th>TRRSRT_NM</th>\n",
       "      <th>ADDR</th>\n",
       "      <th>AVERAGE_VISITOR</th>\n",
       "    </tr>\n",
       "  </thead>\n",
       "  <tbody>\n",
       "    <tr>\n",
       "      <th>0</th>\n",
       "      <td>디저트카페 섬타르</td>\n",
       "      <td>제주특별자치도 제주시 다랑곶1길 9</td>\n",
       "      <td>2.714286</td>\n",
       "    </tr>\n",
       "    <tr>\n",
       "      <th>1</th>\n",
       "      <td>망고레이(섭지코지점)</td>\n",
       "      <td>제주 서귀포시 성산읍 신양로 102</td>\n",
       "      <td>5.500000</td>\n",
       "    </tr>\n",
       "    <tr>\n",
       "      <th>2</th>\n",
       "      <td>봉이네해물짜장</td>\n",
       "      <td>제주특별자치도 서귀포시 대정읍 가파로 239</td>\n",
       "      <td>2.000000</td>\n",
       "    </tr>\n",
       "    <tr>\n",
       "      <th>3</th>\n",
       "      <td>신라호텔제주 뷔페</td>\n",
       "      <td>제주 서귀포시 중문관광로72번길 75</td>\n",
       "      <td>150.697674</td>\n",
       "    </tr>\n",
       "    <tr>\n",
       "      <th>5</th>\n",
       "      <td>영주말가든</td>\n",
       "      <td>제주 제주시 연북로 196</td>\n",
       "      <td>3.000000</td>\n",
       "    </tr>\n",
       "    <tr>\n",
       "      <th>6</th>\n",
       "      <td>유진이네횟집</td>\n",
       "      <td>제주 제주시 삼무로 16 삼주빌딩</td>\n",
       "      <td>4.000000</td>\n",
       "    </tr>\n",
       "    <tr>\n",
       "      <th>7</th>\n",
       "      <td>해비치호텔앤드리조트 섬모라</td>\n",
       "      <td>제주특별자치도 서귀포시 표선면 민속해안로 537</td>\n",
       "      <td>17.080000</td>\n",
       "    </tr>\n",
       "    <tr>\n",
       "      <th>8</th>\n",
       "      <td>환상의짜장</td>\n",
       "      <td>제주특별자치도 서귀포시 대정읍 마라로 45 환상의짜장</td>\n",
       "      <td>2.000000</td>\n",
       "    </tr>\n",
       "  </tbody>\n",
       "</table>\n",
       "</div>"
      ],
      "text/plain": [
       "        TRRSRT_NM                           ADDR  AVERAGE_VISITOR\n",
       "0       디저트카페 섬타르            제주특별자치도 제주시 다랑곶1길 9         2.714286\n",
       "1     망고레이(섭지코지점)            제주 서귀포시 성산읍 신양로 102         5.500000\n",
       "2         봉이네해물짜장       제주특별자치도 서귀포시 대정읍 가파로 239         2.000000\n",
       "3       신라호텔제주 뷔페           제주 서귀포시 중문관광로72번길 75       150.697674\n",
       "5           영주말가든                 제주 제주시 연북로 196         3.000000\n",
       "6          유진이네횟집             제주 제주시 삼무로 16 삼주빌딩         4.000000\n",
       "7  해비치호텔앤드리조트 섬모라     제주특별자치도 서귀포시 표선면 민속해안로 537        17.080000\n",
       "8           환상의짜장  제주특별자치도 서귀포시 대정읍 마라로 45 환상의짜장         2.000000"
      ]
     },
     "execution_count": 119,
     "metadata": {},
     "output_type": "execute_result"
    }
   ],
   "source": [
    "enter_food2"
   ]
  },
  {
   "cell_type": "code",
   "execution_count": 117,
   "id": "30725635",
   "metadata": {},
   "outputs": [
    {
     "data": {
      "text/html": [
       "<div>\n",
       "<style scoped>\n",
       "    .dataframe tbody tr th:only-of-type {\n",
       "        vertical-align: middle;\n",
       "    }\n",
       "\n",
       "    .dataframe tbody tr th {\n",
       "        vertical-align: top;\n",
       "    }\n",
       "\n",
       "    .dataframe thead th {\n",
       "        text-align: right;\n",
       "    }\n",
       "</style>\n",
       "<table border=\"1\" class=\"dataframe\">\n",
       "  <thead>\n",
       "    <tr style=\"text-align: right;\">\n",
       "      <th></th>\n",
       "      <th>TRRSRT_NM</th>\n",
       "      <th>ADDR</th>\n",
       "      <th>AVERAGE_VISITOR</th>\n",
       "    </tr>\n",
       "  </thead>\n",
       "  <tbody>\n",
       "    <tr>\n",
       "      <th>0</th>\n",
       "      <td>디저트카페 섬타르</td>\n",
       "      <td>제주특별자치도 제주시 다랑곶1길 9</td>\n",
       "      <td>2.714286</td>\n",
       "    </tr>\n",
       "    <tr>\n",
       "      <th>1</th>\n",
       "      <td>망고레이(섭지코지점)</td>\n",
       "      <td>제주 서귀포시 성산읍 신양로 102</td>\n",
       "      <td>5.500000</td>\n",
       "    </tr>\n",
       "    <tr>\n",
       "      <th>2</th>\n",
       "      <td>봉이네해물짜장</td>\n",
       "      <td>제주특별자치도 서귀포시 대정읍 가파로 239</td>\n",
       "      <td>2.000000</td>\n",
       "    </tr>\n",
       "    <tr>\n",
       "      <th>3</th>\n",
       "      <td>신라호텔제주 뷔페</td>\n",
       "      <td>제주 서귀포시 중문관광로72번길 75</td>\n",
       "      <td>150.697674</td>\n",
       "    </tr>\n",
       "    <tr>\n",
       "      <th>4</th>\n",
       "      <td>신라호텔제주 뷔페</td>\n",
       "      <td>제주특별자치도 서귀포시 중문관광로72번길 75</td>\n",
       "      <td>175.508197</td>\n",
       "    </tr>\n",
       "    <tr>\n",
       "      <th>5</th>\n",
       "      <td>영주말가든</td>\n",
       "      <td>제주 제주시 연북로 196</td>\n",
       "      <td>3.000000</td>\n",
       "    </tr>\n",
       "    <tr>\n",
       "      <th>6</th>\n",
       "      <td>유진이네횟집</td>\n",
       "      <td>제주 제주시 삼무로 16 삼주빌딩</td>\n",
       "      <td>4.000000</td>\n",
       "    </tr>\n",
       "    <tr>\n",
       "      <th>7</th>\n",
       "      <td>해비치호텔앤드리조트 섬모라</td>\n",
       "      <td>제주특별자치도 서귀포시 표선면 민속해안로 537</td>\n",
       "      <td>17.080000</td>\n",
       "    </tr>\n",
       "    <tr>\n",
       "      <th>8</th>\n",
       "      <td>환상의짜장</td>\n",
       "      <td>제주특별자치도 서귀포시 대정읍 마라로 45 환상의짜장</td>\n",
       "      <td>2.000000</td>\n",
       "    </tr>\n",
       "  </tbody>\n",
       "</table>\n",
       "</div>"
      ],
      "text/plain": [
       "        TRRSRT_NM                           ADDR  AVERAGE_VISITOR\n",
       "0       디저트카페 섬타르            제주특별자치도 제주시 다랑곶1길 9         2.714286\n",
       "1     망고레이(섭지코지점)            제주 서귀포시 성산읍 신양로 102         5.500000\n",
       "2         봉이네해물짜장       제주특별자치도 서귀포시 대정읍 가파로 239         2.000000\n",
       "3       신라호텔제주 뷔페           제주 서귀포시 중문관광로72번길 75       150.697674\n",
       "4       신라호텔제주 뷔페      제주특별자치도 서귀포시 중문관광로72번길 75       175.508197\n",
       "5           영주말가든                 제주 제주시 연북로 196         3.000000\n",
       "6          유진이네횟집             제주 제주시 삼무로 16 삼주빌딩         4.000000\n",
       "7  해비치호텔앤드리조트 섬모라     제주특별자치도 서귀포시 표선면 민속해안로 537        17.080000\n",
       "8           환상의짜장  제주특별자치도 서귀포시 대정읍 마라로 45 환상의짜장         2.000000"
      ]
     },
     "execution_count": 117,
     "metadata": {},
     "output_type": "execute_result"
    }
   ],
   "source": [
    "enter_food1"
   ]
  },
  {
   "cell_type": "code",
   "execution_count": 78,
   "id": "c19d102f",
   "metadata": {},
   "outputs": [],
   "source": [
    "shilla = enter_food[enter_food['TRRSRT_NM']=='신라호텔제주 뷔페']"
   ]
  },
  {
   "cell_type": "code",
   "execution_count": 80,
   "id": "9a725d40",
   "metadata": {},
   "outputs": [
    {
     "name": "stderr",
     "output_type": "stream",
     "text": [
      "/var/folders/_t/yrhf8bh167g1b6qb6gqjrf_c0000gn/T/ipykernel_1224/3248441035.py:1: SettingWithCopyWarning: \n",
      "A value is trying to be set on a copy of a slice from a DataFrame\n",
      "\n",
      "See the caveats in the documentation: https://pandas.pydata.org/pandas-docs/stable/user_guide/indexing.html#returning-a-view-versus-a-copy\n",
      "  shilla.drop(['ADDR', 'SETLE_PRICE'], axis=1, inplace=True)\n"
     ]
    },
    {
     "data": {
      "text/html": [
       "<div>\n",
       "<style scoped>\n",
       "    .dataframe tbody tr th:only-of-type {\n",
       "        vertical-align: middle;\n",
       "    }\n",
       "\n",
       "    .dataframe tbody tr th {\n",
       "        vertical-align: top;\n",
       "    }\n",
       "\n",
       "    .dataframe thead th {\n",
       "        text-align: right;\n",
       "    }\n",
       "</style>\n",
       "<table border=\"1\" class=\"dataframe\">\n",
       "  <thead>\n",
       "    <tr style=\"text-align: right;\">\n",
       "      <th></th>\n",
       "      <th>TRRSRT_NM</th>\n",
       "      <th>ENTRN_DE</th>\n",
       "      <th>level_2</th>\n",
       "      <th>0</th>\n",
       "    </tr>\n",
       "  </thead>\n",
       "  <tbody>\n",
       "    <tr>\n",
       "      <th>0</th>\n",
       "      <td>신라호텔제주 뷔페</td>\n",
       "      <td>20210901</td>\n",
       "      <td>TOT_ENTRN_NMPR_CO</td>\n",
       "      <td>41</td>\n",
       "    </tr>\n",
       "    <tr>\n",
       "      <th>1</th>\n",
       "      <td>신라호텔제주 뷔페</td>\n",
       "      <td>20210902</td>\n",
       "      <td>TOT_ENTRN_NMPR_CO</td>\n",
       "      <td>45</td>\n",
       "    </tr>\n",
       "    <tr>\n",
       "      <th>2</th>\n",
       "      <td>신라호텔제주 뷔페</td>\n",
       "      <td>20210903</td>\n",
       "      <td>TOT_ENTRN_NMPR_CO</td>\n",
       "      <td>33</td>\n",
       "    </tr>\n",
       "    <tr>\n",
       "      <th>3</th>\n",
       "      <td>신라호텔제주 뷔페</td>\n",
       "      <td>20210904</td>\n",
       "      <td>TOT_ENTRN_NMPR_CO</td>\n",
       "      <td>52</td>\n",
       "    </tr>\n",
       "    <tr>\n",
       "      <th>4</th>\n",
       "      <td>신라호텔제주 뷔페</td>\n",
       "      <td>20210905</td>\n",
       "      <td>TOT_ENTRN_NMPR_CO</td>\n",
       "      <td>39</td>\n",
       "    </tr>\n",
       "    <tr>\n",
       "      <th>...</th>\n",
       "      <td>...</td>\n",
       "      <td>...</td>\n",
       "      <td>...</td>\n",
       "      <td>...</td>\n",
       "    </tr>\n",
       "    <tr>\n",
       "      <th>81</th>\n",
       "      <td>신라호텔제주 뷔페</td>\n",
       "      <td>20211121</td>\n",
       "      <td>TOT_ENTRN_NMPR_CO</td>\n",
       "      <td>67</td>\n",
       "    </tr>\n",
       "    <tr>\n",
       "      <th>82</th>\n",
       "      <td>신라호텔제주 뷔페</td>\n",
       "      <td>20211122</td>\n",
       "      <td>TOT_ENTRN_NMPR_CO</td>\n",
       "      <td>139</td>\n",
       "    </tr>\n",
       "    <tr>\n",
       "      <th>83</th>\n",
       "      <td>신라호텔제주 뷔페</td>\n",
       "      <td>20211123</td>\n",
       "      <td>TOT_ENTRN_NMPR_CO</td>\n",
       "      <td>72</td>\n",
       "    </tr>\n",
       "    <tr>\n",
       "      <th>84</th>\n",
       "      <td>신라호텔제주 뷔페</td>\n",
       "      <td>20211124</td>\n",
       "      <td>TOT_ENTRN_NMPR_CO</td>\n",
       "      <td>91</td>\n",
       "    </tr>\n",
       "    <tr>\n",
       "      <th>85</th>\n",
       "      <td>신라호텔제주 뷔페</td>\n",
       "      <td>20211125</td>\n",
       "      <td>TOT_ENTRN_NMPR_CO</td>\n",
       "      <td>84</td>\n",
       "    </tr>\n",
       "  </tbody>\n",
       "</table>\n",
       "<p>86 rows × 4 columns</p>\n",
       "</div>"
      ],
      "text/plain": [
       "    TRRSRT_NM  ENTRN_DE            level_2    0\n",
       "0   신라호텔제주 뷔페  20210901  TOT_ENTRN_NMPR_CO   41\n",
       "1   신라호텔제주 뷔페  20210902  TOT_ENTRN_NMPR_CO   45\n",
       "2   신라호텔제주 뷔페  20210903  TOT_ENTRN_NMPR_CO   33\n",
       "3   신라호텔제주 뷔페  20210904  TOT_ENTRN_NMPR_CO   52\n",
       "4   신라호텔제주 뷔페  20210905  TOT_ENTRN_NMPR_CO   39\n",
       "..        ...       ...                ...  ...\n",
       "81  신라호텔제주 뷔페  20211121  TOT_ENTRN_NMPR_CO   67\n",
       "82  신라호텔제주 뷔페  20211122  TOT_ENTRN_NMPR_CO  139\n",
       "83  신라호텔제주 뷔페  20211123  TOT_ENTRN_NMPR_CO   72\n",
       "84  신라호텔제주 뷔페  20211124  TOT_ENTRN_NMPR_CO   91\n",
       "85  신라호텔제주 뷔페  20211125  TOT_ENTRN_NMPR_CO   84\n",
       "\n",
       "[86 rows x 4 columns]"
      ]
     },
     "execution_count": 80,
     "metadata": {},
     "output_type": "execute_result"
    }
   ],
   "source": [
    "shilla.drop(['ADDR', 'SETLE_PRICE'], axis=1, inplace=True)\n",
    "shilla = shilla.groupby(['TRRSRT_NM', 'ENTRN_DE']).sum()\n",
    "shilla = shilla.T.unstack().reset_index()\n",
    "\n",
    "shilla"
   ]
  },
  {
   "cell_type": "code",
   "execution_count": 81,
   "id": "937002d4",
   "metadata": {},
   "outputs": [],
   "source": [
    "shilla.drop('level_2', axis=1, inplace=True)\n",
    "shilla.rename(columns = {0:'AVERAGE_VISITOR'}, inplace=True)"
   ]
  },
  {
   "cell_type": "code",
   "execution_count": 84,
   "id": "a777068c",
   "metadata": {},
   "outputs": [
    {
     "data": {
      "text/html": [
       "<div>\n",
       "<style scoped>\n",
       "    .dataframe tbody tr th:only-of-type {\n",
       "        vertical-align: middle;\n",
       "    }\n",
       "\n",
       "    .dataframe tbody tr th {\n",
       "        vertical-align: top;\n",
       "    }\n",
       "\n",
       "    .dataframe thead th {\n",
       "        text-align: right;\n",
       "    }\n",
       "</style>\n",
       "<table border=\"1\" class=\"dataframe\">\n",
       "  <thead>\n",
       "    <tr style=\"text-align: right;\">\n",
       "      <th></th>\n",
       "      <th>AVERAGE_VISITOR</th>\n",
       "    </tr>\n",
       "    <tr>\n",
       "      <th>TRRSRT_NM</th>\n",
       "      <th></th>\n",
       "    </tr>\n",
       "  </thead>\n",
       "  <tbody>\n",
       "    <tr>\n",
       "      <th>신라호텔제주 뷔페</th>\n",
       "      <td>150.697674</td>\n",
       "    </tr>\n",
       "  </tbody>\n",
       "</table>\n",
       "</div>"
      ],
      "text/plain": [
       "           AVERAGE_VISITOR\n",
       "TRRSRT_NM                 \n",
       "신라호텔제주 뷔페       150.697674"
      ]
     },
     "execution_count": 84,
     "metadata": {},
     "output_type": "execute_result"
    }
   ],
   "source": [
    "shilla.drop('ENTRN_DE', axis=1, inplace=True)\n",
    "shilla.groupby(['TRRSRT_NM']).mean()"
   ]
  },
  {
   "cell_type": "code",
   "execution_count": 120,
   "id": "b84b5772",
   "metadata": {},
   "outputs": [],
   "source": [
    "enter_food2.to_csv('enter_food.csv', header=True, index=False, encoding=\"cp949\")"
   ]
  },
  {
   "cell_type": "code",
   "execution_count": null,
   "id": "53d291b2",
   "metadata": {},
   "outputs": [],
   "source": []
  }
 ],
 "metadata": {
  "kernelspec": {
   "display_name": "Python 3 (ipykernel)",
   "language": "python",
   "name": "python3"
  },
  "language_info": {
   "codemirror_mode": {
    "name": "ipython",
    "version": 3
   },
   "file_extension": ".py",
   "mimetype": "text/x-python",
   "name": "python",
   "nbconvert_exporter": "python",
   "pygments_lexer": "ipython3",
   "version": "3.8.13"
  }
 },
 "nbformat": 4,
 "nbformat_minor": 5
}
