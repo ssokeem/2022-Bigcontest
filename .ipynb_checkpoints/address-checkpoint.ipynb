{
 "cells": [
  {
   "cell_type": "code",
   "execution_count": 2,
   "metadata": {},
   "outputs": [],
   "source": [
    "import pandas as pd\n",
    "import numpy as np"
   ]
  },
  {
   "cell_type": "code",
   "execution_count": 9,
   "metadata": {},
   "outputs": [],
   "source": [
    "categories = ['cafe', 'motel', 'hotel', 'pension', 'resort', 'food', 'tour']"
   ]
  },
  {
   "cell_type": "code",
   "execution_count": 7,
   "metadata": {},
   "outputs": [],
   "source": [
    "cafe = pd.read_csv('./kakao_review/kakao_cafe.csv', encoding='UTF-8')\n",
    "motel = pd.read_csv('./kakao_review/kakao_motel.csv', encoding='UTF-8')\n",
    "hotel = pd.read_csv('./kakao_review/kakao_hotel.csv', encoding='UTF-8')\n",
    "pension = pd.read_csv('./kakao_review/kakao_pension.csv', encoding='UTF-8')\n",
    "resort = pd.read_csv('./kakao_review/kakao_resort.csv', encoding='UTF-8')\n",
    "food = pd.read_csv('./kakao_review/kakao_food.csv', encoding='UTF-8')\n",
    "tour = pd.read_csv('./kakao_review/kakao_tour.csv', encoding='UTF-8')"
   ]
  },
  {
   "cell_type": "code",
   "execution_count": 4,
   "metadata": {},
   "outputs": [],
   "source": [
    "def address(data):\n",
    "    result = data.drop(['분류', '별점', '별점페이지', '별점갯수', '리뷰'], axis=1)\n",
    "    result.columns = ['place', 'address']\n",
    "    return result"
   ]
  },
  {
   "cell_type": "code",
   "execution_count": 8,
   "metadata": {},
   "outputs": [],
   "source": [
    "cafe_address = address(cafe)\n",
    "motel_address = address(motel)\n",
    "hotel_address = address(hotel)\n",
    "pension_address = address(pension)\n",
    "resort_address = address(resort)\n",
    "food_address = address(food)\n",
    "tour_address = address(tour)"
   ]
  },
  {
   "cell_type": "code",
   "execution_count": 10,
   "metadata": {},
   "outputs": [],
   "source": [
    "for category in categories:\n",
    "    globals()['{}_address'.format(category)].to_csv('./place_address/' + '{}_address'.format(category) + '.csv', header=True, index=False, encoding=\"UTF-8\")"
   ]
  },
  {
   "cell_type": "markdown",
   "metadata": {},
   "source": [
    "## 위경도 데이터 합치기"
   ]
  },
  {
   "cell_type": "code",
   "execution_count": 12,
   "metadata": {},
   "outputs": [],
   "source": [
    "cafe = pd.read_csv('./place_address/latitude and longitude/lalong_cafe.csv', encoding='UTF-8')\n",
    "food = pd.read_csv('./place_address/latitude and longitude/lalong_food.csv', encoding='UTF-8')\n",
    "hotel = pd.read_csv('./place_address/latitude and longitude/lalong_hotel.csv', encoding='UTF-8')\n",
    "motel = pd.read_csv('./place_address/latitude and longitude/lalong_motel.csv', encoding='UTF-8')\n",
    "pension = pd.read_csv('./place_address/latitude and longitude/lalong_pension.csv', encoding='UTF-8')\n",
    "resort = pd.read_csv('./place_address/latitude and longitude/lalong_resort.csv', encoding='UTF-8')\n",
    "tour = pd.read_csv('./place_address/latitude and longitude/lalong_tour.csv', encoding='UTF-8')"
   ]
  },
  {
   "cell_type": "code",
   "execution_count": 13,
   "metadata": {},
   "outputs": [],
   "source": [
    "cafe['category'] = \"카페\"\n",
    "food['category'] = \"식당\"\n",
    "hotel['category'] = \"호텔\"\n",
    "motel['category'] = \"모텔\"\n",
    "pension['category'] = \"펜션\"\n",
    "resort['category'] = \"리조트\"\n",
    "tour['category'] = \"관광지\""
   ]
  },
  {
   "cell_type": "code",
   "execution_count": 14,
   "metadata": {},
   "outputs": [],
   "source": [
    "place_location = pd.concat([cafe, food, hotel, motel, pension, resort,tour], axis=0)"
   ]
  },
  {
   "cell_type": "code",
   "execution_count": 8,
   "metadata": {},
   "outputs": [],
   "source": [
    "# place_location = place_location.reset_index()"
   ]
  },
  {
   "cell_type": "code",
   "execution_count": 9,
   "metadata": {},
   "outputs": [],
   "source": [
    "# place_location.drop('index', axis=1, inplace=True)"
   ]
  },
  {
   "cell_type": "code",
   "execution_count": 15,
   "metadata": {},
   "outputs": [
    {
     "data": {
      "text/html": [
       "<div>\n",
       "<style scoped>\n",
       "    .dataframe tbody tr th:only-of-type {\n",
       "        vertical-align: middle;\n",
       "    }\n",
       "\n",
       "    .dataframe tbody tr th {\n",
       "        vertical-align: top;\n",
       "    }\n",
       "\n",
       "    .dataframe thead th {\n",
       "        text-align: right;\n",
       "    }\n",
       "</style>\n",
       "<table border=\"1\" class=\"dataframe\">\n",
       "  <thead>\n",
       "    <tr style=\"text-align: right;\">\n",
       "      <th></th>\n",
       "      <th>place</th>\n",
       "      <th>address</th>\n",
       "      <th>Latitude</th>\n",
       "      <th>Longitude</th>\n",
       "      <th>category</th>\n",
       "    </tr>\n",
       "  </thead>\n",
       "  <tbody>\n",
       "    <tr>\n",
       "      <th>0</th>\n",
       "      <td>원앤온리</td>\n",
       "      <td>제주특별자치도 서귀포시 안덕면 산방로 141 원앤온리</td>\n",
       "      <td>33.239230</td>\n",
       "      <td>126.319294</td>\n",
       "      <td>카페</td>\n",
       "    </tr>\n",
       "    <tr>\n",
       "      <th>1</th>\n",
       "      <td>퍼시픽리솜 더클리프카페&amp;펍</td>\n",
       "      <td>제주특별자치도 서귀포시 중문관광로 154-17</td>\n",
       "      <td>33.244433</td>\n",
       "      <td>126.416194</td>\n",
       "      <td>카페</td>\n",
       "    </tr>\n",
       "    <tr>\n",
       "      <th>2</th>\n",
       "      <td>카페나모나모</td>\n",
       "      <td>제주특별자치도 제주시 도두봉6길 4 1~4층</td>\n",
       "      <td>33.508209</td>\n",
       "      <td>126.472321</td>\n",
       "      <td>카페</td>\n",
       "    </tr>\n",
       "    <tr>\n",
       "      <th>3</th>\n",
       "      <td>울트라마린</td>\n",
       "      <td>제주특별자치도 제주시 한경면 일주서로 4611 지하1층</td>\n",
       "      <td>33.341404</td>\n",
       "      <td>126.189900</td>\n",
       "      <td>카페</td>\n",
       "    </tr>\n",
       "    <tr>\n",
       "      <th>4</th>\n",
       "      <td>드르쿰다in성산</td>\n",
       "      <td>제주특별자치도 서귀포시 성산읍 섭지코지로25번길 64</td>\n",
       "      <td>33.449374</td>\n",
       "      <td>126.920708</td>\n",
       "      <td>카페</td>\n",
       "    </tr>\n",
       "    <tr>\n",
       "      <th>...</th>\n",
       "      <td>...</td>\n",
       "      <td>...</td>\n",
       "      <td>...</td>\n",
       "      <td>...</td>\n",
       "      <td>...</td>\n",
       "    </tr>\n",
       "    <tr>\n",
       "      <th>353</th>\n",
       "      <td>개다리폭포</td>\n",
       "      <td>제주특별자치도 서귀포시 색달동 3101-1</td>\n",
       "      <td>33.281411</td>\n",
       "      <td>126.411112</td>\n",
       "      <td>관광지</td>\n",
       "    </tr>\n",
       "    <tr>\n",
       "      <th>354</th>\n",
       "      <td>세리월드 카트레이싱</td>\n",
       "      <td>제주특별자치도 서귀포시 법환동 881-2</td>\n",
       "      <td>33.246731</td>\n",
       "      <td>126.511662</td>\n",
       "      <td>관광지</td>\n",
       "    </tr>\n",
       "    <tr>\n",
       "      <th>355</th>\n",
       "      <td>톨칸이해변</td>\n",
       "      <td>제주특별자치도 제주시 우도면 연평리</td>\n",
       "      <td>33.503319</td>\n",
       "      <td>126.955677</td>\n",
       "      <td>관광지</td>\n",
       "    </tr>\n",
       "    <tr>\n",
       "      <th>356</th>\n",
       "      <td>다랑쉬굴</td>\n",
       "      <td>제주특별자치도 제주시 구좌읍 세화리 2608-3</td>\n",
       "      <td>33.468007</td>\n",
       "      <td>126.831497</td>\n",
       "      <td>관광지</td>\n",
       "    </tr>\n",
       "    <tr>\n",
       "      <th>357</th>\n",
       "      <td>중엄새물</td>\n",
       "      <td>제주특별자치도 제주시 애월읍 신엄리</td>\n",
       "      <td>33.466336</td>\n",
       "      <td>126.368888</td>\n",
       "      <td>관광지</td>\n",
       "    </tr>\n",
       "  </tbody>\n",
       "</table>\n",
       "<p>1815 rows × 5 columns</p>\n",
       "</div>"
      ],
      "text/plain": [
       "              place                         address   Latitude   Longitude  \\\n",
       "0              원앤온리   제주특별자치도 서귀포시 안덕면 산방로 141 원앤온리  33.239230  126.319294   \n",
       "1    퍼시픽리솜 더클리프카페&펍       제주특별자치도 서귀포시 중문관광로 154-17  33.244433  126.416194   \n",
       "2            카페나모나모        제주특별자치도 제주시 도두봉6길 4 1~4층  33.508209  126.472321   \n",
       "3             울트라마린  제주특별자치도 제주시 한경면 일주서로 4611 지하1층  33.341404  126.189900   \n",
       "4          드르쿰다in성산   제주특별자치도 서귀포시 성산읍 섭지코지로25번길 64  33.449374  126.920708   \n",
       "..              ...                             ...        ...         ...   \n",
       "353           개다리폭포         제주특별자치도 서귀포시 색달동 3101-1  33.281411  126.411112   \n",
       "354      세리월드 카트레이싱          제주특별자치도 서귀포시 법환동 881-2  33.246731  126.511662   \n",
       "355           톨칸이해변             제주특별자치도 제주시 우도면 연평리  33.503319  126.955677   \n",
       "356            다랑쉬굴      제주특별자치도 제주시 구좌읍 세화리 2608-3  33.468007  126.831497   \n",
       "357            중엄새물             제주특별자치도 제주시 애월읍 신엄리  33.466336  126.368888   \n",
       "\n",
       "    category  \n",
       "0         카페  \n",
       "1         카페  \n",
       "2         카페  \n",
       "3         카페  \n",
       "4         카페  \n",
       "..       ...  \n",
       "353      관광지  \n",
       "354      관광지  \n",
       "355      관광지  \n",
       "356      관광지  \n",
       "357      관광지  \n",
       "\n",
       "[1815 rows x 5 columns]"
      ]
     },
     "execution_count": 15,
     "metadata": {},
     "output_type": "execute_result"
    }
   ],
   "source": [
    "place_location"
   ]
  },
  {
   "cell_type": "code",
   "execution_count": 19,
   "metadata": {},
   "outputs": [],
   "source": [
    "place_location.to_csv('./place_address/place_location.csv', header=True, index=False, encoding=\"UTF-8\")"
   ]
  },
  {
   "cell_type": "code",
   "execution_count": null,
   "metadata": {},
   "outputs": [],
   "source": []
  }
 ],
 "metadata": {
  "kernelspec": {
   "display_name": "Python 3 (ipykernel)",
   "language": "python",
   "name": "python3"
  },
  "language_info": {
   "codemirror_mode": {
    "name": "ipython",
    "version": 3
   },
   "file_extension": ".py",
   "mimetype": "text/x-python",
   "name": "python",
   "nbconvert_exporter": "python",
   "pygments_lexer": "ipython3",
   "version": "3.8.13"
  },
  "vscode": {
   "interpreter": {
    "hash": "0024c24e332fc8d4139c7d9856478a3fdcd14b2d970d4f9f403652f97d133979"
   }
  }
 },
 "nbformat": 4,
 "nbformat_minor": 2
}
