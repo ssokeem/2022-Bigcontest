{
 "cells": [
  {
   "cell_type": "code",
   "execution_count": 50,
   "metadata": {
    "executionInfo": {
     "elapsed": 1564,
     "status": "ok",
     "timestamp": 1665334085590,
     "user": {
      "displayName": "이시영(사회과학대학 사회복지학과)",
      "userId": "01097873368701450604"
     },
     "user_tz": -540
    },
    "id": "f1SoddqBpQZe"
   },
   "outputs": [],
   "source": [
    "import numpy as np \n",
    "import pandas as pd \n",
    "import matplotlib.pyplot as plt\n",
    "import seaborn as sns\n",
    "from sklearn.preprocessing import StandardScaler\n",
    "from sklearn.cluster import KMeans\n",
    "from sklearn.discriminant_analysis import LinearDiscriminantAnalysis\n",
    "from sklearn.decomposition import PCA, FactorAnalysis\n",
    "from scipy.cluster.hierarchy import linkage, dendrogram, fcluster\n",
    "from IPython.display import display\n",
    "import warnings\n",
    "warnings.filterwarnings(action=\"ignore\")\n",
    "from IPython.display import display\n",
    "from sklearn.cluster import AgglomerativeClustering\n",
    "from sklearn.metrics import silhouette_score"
   ]
  },
  {
   "cell_type": "code",
   "execution_count": 51,
   "metadata": {
    "executionInfo": {
     "elapsed": 735,
     "status": "ok",
     "timestamp": 1665334093459,
     "user": {
      "displayName": "이시영(사회과학대학 사회복지학과)",
      "userId": "01097873368701450604"
     },
     "user_tz": -540
    },
    "id": "WfPqSDBIpX7S"
   },
   "outputs": [],
   "source": [
    "dd = pd.read_csv('./place_address/place_location.csv')"
   ]
  },
  {
   "cell_type": "code",
   "execution_count": 52,
   "metadata": {
    "colab": {
     "base_uri": "https://localhost:8080/",
     "height": 206
    },
    "executionInfo": {
     "elapsed": 10,
     "status": "ok",
     "timestamp": 1665334098708,
     "user": {
      "displayName": "이시영(사회과학대학 사회복지학과)",
      "userId": "01097873368701450604"
     },
     "user_tz": -540
    },
    "id": "p_sIsOR0pZ8l",
    "outputId": "e9ea30ff-dfb4-4d43-80f0-6c77aed0c43d"
   },
   "outputs": [
    {
     "data": {
      "text/html": [
       "<div>\n",
       "<style scoped>\n",
       "    .dataframe tbody tr th:only-of-type {\n",
       "        vertical-align: middle;\n",
       "    }\n",
       "\n",
       "    .dataframe tbody tr th {\n",
       "        vertical-align: top;\n",
       "    }\n",
       "\n",
       "    .dataframe thead th {\n",
       "        text-align: right;\n",
       "    }\n",
       "</style>\n",
       "<table border=\"1\" class=\"dataframe\">\n",
       "  <thead>\n",
       "    <tr style=\"text-align: right;\">\n",
       "      <th></th>\n",
       "      <th>place</th>\n",
       "      <th>address</th>\n",
       "      <th>Latitude</th>\n",
       "      <th>Longitude</th>\n",
       "      <th>category</th>\n",
       "    </tr>\n",
       "  </thead>\n",
       "  <tbody>\n",
       "    <tr>\n",
       "      <th>0</th>\n",
       "      <td>원앤온리</td>\n",
       "      <td>제주특별자치도 서귀포시 안덕면 산방로 141 원앤온리</td>\n",
       "      <td>33.239230</td>\n",
       "      <td>126.319294</td>\n",
       "      <td>카페</td>\n",
       "    </tr>\n",
       "    <tr>\n",
       "      <th>1</th>\n",
       "      <td>퍼시픽리솜 더클리프카페&amp;펍</td>\n",
       "      <td>제주특별자치도 서귀포시 중문관광로 154-17</td>\n",
       "      <td>33.244433</td>\n",
       "      <td>126.416194</td>\n",
       "      <td>카페</td>\n",
       "    </tr>\n",
       "    <tr>\n",
       "      <th>2</th>\n",
       "      <td>카페나모나모</td>\n",
       "      <td>제주특별자치도 제주시 도두봉6길 4 1~4층</td>\n",
       "      <td>33.508209</td>\n",
       "      <td>126.472321</td>\n",
       "      <td>카페</td>\n",
       "    </tr>\n",
       "    <tr>\n",
       "      <th>3</th>\n",
       "      <td>울트라마린</td>\n",
       "      <td>제주특별자치도 제주시 한경면 일주서로 4611 지하1층</td>\n",
       "      <td>33.341404</td>\n",
       "      <td>126.189900</td>\n",
       "      <td>카페</td>\n",
       "    </tr>\n",
       "    <tr>\n",
       "      <th>4</th>\n",
       "      <td>드르쿰다in성산</td>\n",
       "      <td>제주특별자치도 서귀포시 성산읍 섭지코지로25번길 64</td>\n",
       "      <td>33.449374</td>\n",
       "      <td>126.920708</td>\n",
       "      <td>카페</td>\n",
       "    </tr>\n",
       "  </tbody>\n",
       "</table>\n",
       "</div>"
      ],
      "text/plain": [
       "            place                         address   Latitude   Longitude  \\\n",
       "0            원앤온리   제주특별자치도 서귀포시 안덕면 산방로 141 원앤온리  33.239230  126.319294   \n",
       "1  퍼시픽리솜 더클리프카페&펍       제주특별자치도 서귀포시 중문관광로 154-17  33.244433  126.416194   \n",
       "2          카페나모나모        제주특별자치도 제주시 도두봉6길 4 1~4층  33.508209  126.472321   \n",
       "3           울트라마린  제주특별자치도 제주시 한경면 일주서로 4611 지하1층  33.341404  126.189900   \n",
       "4        드르쿰다in성산   제주특별자치도 서귀포시 성산읍 섭지코지로25번길 64  33.449374  126.920708   \n",
       "\n",
       "  category  \n",
       "0       카페  \n",
       "1       카페  \n",
       "2       카페  \n",
       "3       카페  \n",
       "4       카페  "
      ]
     },
     "execution_count": 52,
     "metadata": {},
     "output_type": "execute_result"
    }
   ],
   "source": [
    "dd.head()"
   ]
  },
  {
   "cell_type": "code",
   "execution_count": 53,
   "metadata": {
    "executionInfo": {
     "elapsed": 3,
     "status": "ok",
     "timestamp": 1665334103961,
     "user": {
      "displayName": "이시영(사회과학대학 사회복지학과)",
      "userId": "01097873368701450604"
     },
     "user_tz": -540
    },
    "id": "9RDf-kbKpbWw"
   },
   "outputs": [],
   "source": [
    "df = dd[['Latitude', 'Longitude']]"
   ]
  },
  {
   "cell_type": "markdown",
   "metadata": {
    "id": "LHzu3ZY8VEhU"
   },
   "source": [
    "## 클러스터링"
   ]
  },
  {
   "cell_type": "markdown",
   "metadata": {},
   "source": [
    "### K-means"
   ]
  },
  {
   "cell_type": "code",
   "execution_count": 54,
   "metadata": {
    "colab": {
     "base_uri": "https://localhost:8080/"
    },
    "executionInfo": {
     "elapsed": 302,
     "status": "ok",
     "timestamp": 1665334217536,
     "user": {
      "displayName": "이시영(사회과학대학 사회복지학과)",
      "userId": "01097873368701450604"
     },
     "user_tz": -540
    },
    "id": "lnXaVjbRVEhU",
    "outputId": "92a3a785-8a64-458b-f16d-b3f84ea5fc21"
   },
   "outputs": [
    {
     "data": {
      "text/html": [
       "<style>#sk-container-id-3 {color: black;background-color: white;}#sk-container-id-3 pre{padding: 0;}#sk-container-id-3 div.sk-toggleable {background-color: white;}#sk-container-id-3 label.sk-toggleable__label {cursor: pointer;display: block;width: 100%;margin-bottom: 0;padding: 0.3em;box-sizing: border-box;text-align: center;}#sk-container-id-3 label.sk-toggleable__label-arrow:before {content: \"▸\";float: left;margin-right: 0.25em;color: #696969;}#sk-container-id-3 label.sk-toggleable__label-arrow:hover:before {color: black;}#sk-container-id-3 div.sk-estimator:hover label.sk-toggleable__label-arrow:before {color: black;}#sk-container-id-3 div.sk-toggleable__content {max-height: 0;max-width: 0;overflow: hidden;text-align: left;background-color: #f0f8ff;}#sk-container-id-3 div.sk-toggleable__content pre {margin: 0.2em;color: black;border-radius: 0.25em;background-color: #f0f8ff;}#sk-container-id-3 input.sk-toggleable__control:checked~div.sk-toggleable__content {max-height: 200px;max-width: 100%;overflow: auto;}#sk-container-id-3 input.sk-toggleable__control:checked~label.sk-toggleable__label-arrow:before {content: \"▾\";}#sk-container-id-3 div.sk-estimator input.sk-toggleable__control:checked~label.sk-toggleable__label {background-color: #d4ebff;}#sk-container-id-3 div.sk-label input.sk-toggleable__control:checked~label.sk-toggleable__label {background-color: #d4ebff;}#sk-container-id-3 input.sk-hidden--visually {border: 0;clip: rect(1px 1px 1px 1px);clip: rect(1px, 1px, 1px, 1px);height: 1px;margin: -1px;overflow: hidden;padding: 0;position: absolute;width: 1px;}#sk-container-id-3 div.sk-estimator {font-family: monospace;background-color: #f0f8ff;border: 1px dotted black;border-radius: 0.25em;box-sizing: border-box;margin-bottom: 0.5em;}#sk-container-id-3 div.sk-estimator:hover {background-color: #d4ebff;}#sk-container-id-3 div.sk-parallel-item::after {content: \"\";width: 100%;border-bottom: 1px solid gray;flex-grow: 1;}#sk-container-id-3 div.sk-label:hover label.sk-toggleable__label {background-color: #d4ebff;}#sk-container-id-3 div.sk-serial::before {content: \"\";position: absolute;border-left: 1px solid gray;box-sizing: border-box;top: 0;bottom: 0;left: 50%;z-index: 0;}#sk-container-id-3 div.sk-serial {display: flex;flex-direction: column;align-items: center;background-color: white;padding-right: 0.2em;padding-left: 0.2em;position: relative;}#sk-container-id-3 div.sk-item {position: relative;z-index: 1;}#sk-container-id-3 div.sk-parallel {display: flex;align-items: stretch;justify-content: center;background-color: white;position: relative;}#sk-container-id-3 div.sk-item::before, #sk-container-id-3 div.sk-parallel-item::before {content: \"\";position: absolute;border-left: 1px solid gray;box-sizing: border-box;top: 0;bottom: 0;left: 50%;z-index: -1;}#sk-container-id-3 div.sk-parallel-item {display: flex;flex-direction: column;z-index: 1;position: relative;background-color: white;}#sk-container-id-3 div.sk-parallel-item:first-child::after {align-self: flex-end;width: 50%;}#sk-container-id-3 div.sk-parallel-item:last-child::after {align-self: flex-start;width: 50%;}#sk-container-id-3 div.sk-parallel-item:only-child::after {width: 0;}#sk-container-id-3 div.sk-dashed-wrapped {border: 1px dashed gray;margin: 0 0.4em 0.5em 0.4em;box-sizing: border-box;padding-bottom: 0.4em;background-color: white;}#sk-container-id-3 div.sk-label label {font-family: monospace;font-weight: bold;display: inline-block;line-height: 1.2em;}#sk-container-id-3 div.sk-label-container {text-align: center;}#sk-container-id-3 div.sk-container {/* jupyter's `normalize.less` sets `[hidden] { display: none; }` but bootstrap.min.css set `[hidden] { display: none !important; }` so we also need the `!important` here to be able to override the default hidden behavior on the sphinx rendered scikit-learn.org. See: https://github.com/scikit-learn/scikit-learn/issues/21755 */display: inline-block !important;position: relative;}#sk-container-id-3 div.sk-text-repr-fallback {display: none;}</style><div id=\"sk-container-id-3\" class=\"sk-top-container\"><div class=\"sk-text-repr-fallback\"><pre>KMeans(algorithm=&#x27;auto&#x27;, n_clusters=4, random_state=312)</pre><b>In a Jupyter environment, please rerun this cell to show the HTML representation or trust the notebook. <br />On GitHub, the HTML representation is unable to render, please try loading this page with nbviewer.org.</b></div><div class=\"sk-container\" hidden><div class=\"sk-item\"><div class=\"sk-estimator sk-toggleable\"><input class=\"sk-toggleable__control sk-hidden--visually\" id=\"sk-estimator-id-3\" type=\"checkbox\" checked><label for=\"sk-estimator-id-3\" class=\"sk-toggleable__label sk-toggleable__label-arrow\">KMeans</label><div class=\"sk-toggleable__content\"><pre>KMeans(algorithm=&#x27;auto&#x27;, n_clusters=4, random_state=312)</pre></div></div></div></div></div>"
      ],
      "text/plain": [
       "KMeans(algorithm='auto', n_clusters=4, random_state=312)"
      ]
     },
     "execution_count": 54,
     "metadata": {},
     "output_type": "execute_result"
    }
   ],
   "source": [
    "from sklearn.cluster import KMeans\n",
    "model = KMeans(n_clusters=4, random_state=312, algorithm='auto')\n",
    "model.fit(df)"
   ]
  },
  {
   "cell_type": "code",
   "execution_count": 55,
   "metadata": {
    "colab": {
     "base_uri": "https://localhost:8080/"
    },
    "executionInfo": {
     "elapsed": 2,
     "status": "ok",
     "timestamp": 1665334220987,
     "user": {
      "displayName": "이시영(사회과학대학 사회복지학과)",
      "userId": "01097873368701450604"
     },
     "user_tz": -540
    },
    "id": "fQ7jVGYFVEhU",
    "outputId": "19726d2d-a137-4fde-f15d-65b8a46eeb8a"
   },
   "outputs": [],
   "source": [
    "# 각 군집(cluster) 표시\n",
    "pred = model.predict(df)"
   ]
  },
  {
   "cell_type": "code",
   "execution_count": 56,
   "metadata": {
    "executionInfo": {
     "elapsed": 3,
     "status": "ok",
     "timestamp": 1665334223764,
     "user": {
      "displayName": "이시영(사회과학대학 사회복지학과)",
      "userId": "01097873368701450604"
     },
     "user_tz": -540
    },
    "id": "E5ZqkgN8VEhU"
   },
   "outputs": [],
   "source": [
    "# 군집별 centroids의 좌표값\n",
    "centroids = model.cluster_centers_\n",
    "centroids = pd.DataFrame(centroids, columns = df.columns)"
   ]
  },
  {
   "cell_type": "code",
   "execution_count": 57,
   "metadata": {
    "colab": {
     "base_uri": "https://localhost:8080/"
    },
    "executionInfo": {
     "elapsed": 301,
     "status": "ok",
     "timestamp": 1665334226732,
     "user": {
      "displayName": "이시영(사회과학대학 사회복지학과)",
      "userId": "01097873368701450604"
     },
     "user_tz": -540
    },
    "id": "OWGjTLvnVEhV",
    "outputId": "73f8baff-43da-4f02-a616-b6761ef92bba"
   },
   "outputs": [
    {
     "name": "stdout",
     "output_type": "stream",
     "text": [
      "Average Silhouette Score:0.887\n"
     ]
    }
   ],
   "source": [
    "#from sklearn.metrics import silhouette_samples, silhouette_score\n",
    "df['k_means_cluster'] = pred\n",
    "df['k_silhouette_coeff'] = silhouette_samples(df, df['k_means_cluster'])\n",
    "\n",
    "k_average_score = silhouette_score(df, df['k_means_cluster'])\n",
    "print('Average Silhouette Score:{0:.3f}'.format(k_average_score))"
   ]
  },
  {
   "cell_type": "code",
   "execution_count": 58,
   "metadata": {
    "colab": {
     "base_uri": "https://localhost:8080/"
    },
    "executionInfo": {
     "elapsed": 499,
     "status": "ok",
     "timestamp": 1665334244421,
     "user": {
      "displayName": "이시영(사회과학대학 사회복지학과)",
      "userId": "01097873368701450604"
     },
     "user_tz": -540
    },
    "id": "aCXRGb1iVEhV",
    "outputId": "e6fda90f-c015-4f68-d88e-c7afcfeba92e"
   },
   "outputs": [
    {
     "data": {
      "text/plain": [
       "k_means_cluster\n",
       "0    0.909977\n",
       "1    0.874152\n",
       "2    0.904257\n",
       "3    0.875365\n",
       "Name: k_silhouette_coeff, dtype: float64"
      ]
     },
     "execution_count": 58,
     "metadata": {},
     "output_type": "execute_result"
    }
   ],
   "source": [
    "# 군집별 평균 silhouette_score 값\n",
    "df.groupby('k_means_cluster')['k_silhouette_coeff'].mean()"
   ]
  },
  {
   "cell_type": "code",
   "execution_count": 59,
   "metadata": {
    "colab": {
     "base_uri": "https://localhost:8080/",
     "height": 175
    },
    "executionInfo": {
     "elapsed": 554,
     "status": "ok",
     "timestamp": 1665334327094,
     "user": {
      "displayName": "이시영(사회과학대학 사회복지학과)",
      "userId": "01097873368701450604"
     },
     "user_tz": -540
    },
    "id": "NQJlsTngVEhV",
    "outputId": "ffafb03d-5aed-48cd-fcd6-2c344c0d6d08"
   },
   "outputs": [
    {
     "data": {
      "text/html": [
       "<div>\n",
       "<style scoped>\n",
       "    .dataframe tbody tr th:only-of-type {\n",
       "        vertical-align: middle;\n",
       "    }\n",
       "\n",
       "    .dataframe tbody tr th {\n",
       "        vertical-align: top;\n",
       "    }\n",
       "\n",
       "    .dataframe thead th {\n",
       "        text-align: right;\n",
       "    }\n",
       "</style>\n",
       "<table border=\"1\" class=\"dataframe\">\n",
       "  <thead>\n",
       "    <tr style=\"text-align: right;\">\n",
       "      <th></th>\n",
       "      <th>Latitude</th>\n",
       "      <th>Longitude</th>\n",
       "      <th>k_silhouette_coeff</th>\n",
       "    </tr>\n",
       "    <tr>\n",
       "      <th>k_means_cluster</th>\n",
       "      <th></th>\n",
       "      <th></th>\n",
       "      <th></th>\n",
       "    </tr>\n",
       "  </thead>\n",
       "  <tbody>\n",
       "    <tr>\n",
       "      <th>0</th>\n",
       "      <td>33.496291</td>\n",
       "      <td>126.505856</td>\n",
       "      <td>0.909977</td>\n",
       "    </tr>\n",
       "    <tr>\n",
       "      <th>1</th>\n",
       "      <td>33.461929</td>\n",
       "      <td>126.831891</td>\n",
       "      <td>0.874152</td>\n",
       "    </tr>\n",
       "    <tr>\n",
       "      <th>2</th>\n",
       "      <td>33.260430</td>\n",
       "      <td>126.537826</td>\n",
       "      <td>0.904257</td>\n",
       "    </tr>\n",
       "    <tr>\n",
       "      <th>3</th>\n",
       "      <td>33.329365</td>\n",
       "      <td>126.289772</td>\n",
       "      <td>0.875365</td>\n",
       "    </tr>\n",
       "  </tbody>\n",
       "</table>\n",
       "</div>"
      ],
      "text/plain": [
       "                  Latitude   Longitude  k_silhouette_coeff\n",
       "k_means_cluster                                           \n",
       "0                33.496291  126.505856            0.909977\n",
       "1                33.461929  126.831891            0.874152\n",
       "2                33.260430  126.537826            0.904257\n",
       "3                33.329365  126.289772            0.875365"
      ]
     },
     "execution_count": 59,
     "metadata": {},
     "output_type": "execute_result"
    }
   ],
   "source": [
    "# 군집별 통계\n",
    "df.groupby('k_means_cluster').mean()"
   ]
  },
  {
   "cell_type": "code",
   "execution_count": 60,
   "metadata": {
    "executionInfo": {
     "elapsed": 473,
     "status": "ok",
     "timestamp": 1665334452580,
     "user": {
      "displayName": "이시영(사회과학대학 사회복지학과)",
      "userId": "01097873368701450604"
     },
     "user_tz": -540
    },
    "id": "GUf7Z-nHqs6p"
   },
   "outputs": [],
   "source": [
    "final=pd.concat([dd,df['k_means_cluster']],axis=1)"
   ]
  },
  {
   "cell_type": "code",
   "execution_count": 24,
   "metadata": {
    "executionInfo": {
     "elapsed": 505,
     "status": "ok",
     "timestamp": 1665334538737,
     "user": {
      "displayName": "이시영(사회과학대학 사회복지학과)",
      "userId": "01097873368701450604"
     },
     "user_tz": -540
    },
    "id": "9KNDjMcuq4QI"
   },
   "outputs": [],
   "source": [
    "# final.to_csv('./place_address/cluster.csv')"
   ]
  },
  {
   "cell_type": "markdown",
   "metadata": {},
   "source": [
    "### DBSCAN"
   ]
  },
  {
   "cell_type": "code",
   "execution_count": 61,
   "metadata": {
    "id": "03VJBaopq2g8"
   },
   "outputs": [],
   "source": [
    "from sklearn.cluster import DBSCAN"
   ]
  },
  {
   "cell_type": "code",
   "execution_count": 62,
   "metadata": {},
   "outputs": [],
   "source": [
    "df2 = dd[['Latitude', 'Longitude']]"
   ]
  },
  {
   "cell_type": "code",
   "execution_count": 63,
   "metadata": {},
   "outputs": [
    {
     "name": "stdout",
     "output_type": "stream",
     "text": [
      "       Latitude   Longitude  predict\n",
      "0     33.239230  126.319294        0\n",
      "1     33.244433  126.416194        0\n",
      "2     33.508209  126.472321        0\n",
      "3     33.341404  126.189900        0\n",
      "4     33.449374  126.920708        0\n",
      "...         ...         ...      ...\n",
      "1810  33.281411  126.411112        0\n",
      "1811  33.246731  126.511662        0\n",
      "1812  33.503319  126.955677        0\n",
      "1813  33.468007  126.831497        0\n",
      "1814  33.466336  126.368888        0\n",
      "\n",
      "[1815 rows x 3 columns]\n"
     ]
    }
   ],
   "source": [
    "model = DBSCAN(min_samples=450)\n",
    "predict = pd.DataFrame(model.fit_predict(df2))\n",
    "predict.columns=['predict']\n",
    "\n",
    "r = pd.concat([df2,predict],axis=1)\n",
    "\n",
    "print(r)"
   ]
  },
  {
   "cell_type": "code",
   "execution_count": 64,
   "metadata": {},
   "outputs": [
    {
     "data": {
      "text/plain": [
       "array([0])"
      ]
     },
     "execution_count": 64,
     "metadata": {},
     "output_type": "execute_result"
    }
   ],
   "source": [
    "r['predict'].unique()"
   ]
  },
  {
   "cell_type": "code",
   "execution_count": null,
   "metadata": {},
   "outputs": [],
   "source": []
  }
 ],
 "metadata": {
  "colab": {
   "authorship_tag": "ABX9TyNUKiGwvo+HryXINJ4JqEC6",
   "provenance": []
  },
  "kernelspec": {
   "display_name": "Python 3 (ipykernel)",
   "language": "python",
   "name": "python3"
  },
  "language_info": {
   "codemirror_mode": {
    "name": "ipython",
    "version": 3
   },
   "file_extension": ".py",
   "mimetype": "text/x-python",
   "name": "python",
   "nbconvert_exporter": "python",
   "pygments_lexer": "ipython3",
   "version": "3.8.13"
  },
  "vscode": {
   "interpreter": {
    "hash": "0024c24e332fc8d4139c7d9856478a3fdcd14b2d970d4f9f403652f97d133979"
   }
  }
 },
 "nbformat": 4,
 "nbformat_minor": 1
}
