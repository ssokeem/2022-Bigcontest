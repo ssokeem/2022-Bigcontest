{
 "cells": [
  {
   "cell_type": "code",
   "execution_count": 15,
   "metadata": {},
   "outputs": [],
   "source": [
    "import pandas as pd\n",
    "import numpy as np"
   ]
  },
  {
   "cell_type": "code",
   "execution_count": 16,
   "metadata": {},
   "outputs": [],
   "source": [
    "visitJeju = pd.read_csv('./etc_data/visit_jeju.csv', encoding='UTF-8')"
   ]
  },
  {
   "cell_type": "code",
   "execution_count": 17,
   "metadata": {},
   "outputs": [],
   "source": [
    "visitJeju_total = visitJeju[['CL_NM', 'AREA_NM', 'ADDR', 'ALL_TOTAL_CO']]"
   ]
  },
  {
   "cell_type": "code",
   "execution_count": 18,
   "metadata": {},
   "outputs": [],
   "source": [
    "zero_waste = ['알맞은시간', 'AND유CAFE', '제주소녀', '발트글라스', '고집돌우럭', '펜고호다', '어나더페이지', '북스페이스곰곰', '지구별가게', '꽃마리협동조합', '핸드메이드라이프', '제주용기']\n",
    "green_store = ['롯데마트','뉴월드마트', '마트로', '바이올가', '제주용기']"
   ]
  },
  {
   "cell_type": "code",
   "execution_count": 19,
   "metadata": {},
   "outputs": [
    {
     "name": "stderr",
     "output_type": "stream",
     "text": [
      "/var/folders/_t/yrhf8bh167g1b6qb6gqjrf_c0000gn/T/ipykernel_4250/773997861.py:1: SettingWithCopyWarning: \n",
      "A value is trying to be set on a copy of a slice from a DataFrame.\n",
      "Try using .loc[row_indexer,col_indexer] = value instead\n",
      "\n",
      "See the caveats in the documentation: https://pandas.pydata.org/pandas-docs/stable/user_guide/indexing.html#returning-a-view-versus-a-copy\n",
      "  visitJeju_total['property'] = 0\n"
     ]
    }
   ],
   "source": [
    "visitJeju_total['property'] = 0"
   ]
  },
  {
   "cell_type": "code",
   "execution_count": 20,
   "metadata": {},
   "outputs": [
    {
     "name": "stderr",
     "output_type": "stream",
     "text": [
      "/var/folders/_t/yrhf8bh167g1b6qb6gqjrf_c0000gn/T/ipykernel_4250/2894466831.py:5: SettingWithCopyWarning: \n",
      "A value is trying to be set on a copy of a slice from a DataFrame\n",
      "\n",
      "See the caveats in the documentation: https://pandas.pydata.org/pandas-docs/stable/user_guide/indexing.html#returning-a-view-versus-a-copy\n",
      "  visitJeju_total['property'][i] = 1\n",
      "/var/folders/_t/yrhf8bh167g1b6qb6gqjrf_c0000gn/T/ipykernel_4250/2894466831.py:8: SettingWithCopyWarning: \n",
      "A value is trying to be set on a copy of a slice from a DataFrame\n",
      "\n",
      "See the caveats in the documentation: https://pandas.pydata.org/pandas-docs/stable/user_guide/indexing.html#returning-a-view-versus-a-copy\n",
      "  visitJeju_total['property'][i] = 1\n"
     ]
    }
   ],
   "source": [
    "for i in range(len(visitJeju_total)):\n",
    "    name = visitJeju_total['AREA_NM'][i]\n",
    "    for store in zero_waste:\n",
    "        if name.find(store) > -1 or name == store:\n",
    "            visitJeju_total['property'][i] = 1\n",
    "    for store in green_store:\n",
    "        if name.find(store) > -1 or name == store:\n",
    "            visitJeju_total['property'][i] = 1"
   ]
  },
  {
   "cell_type": "code",
   "execution_count": 21,
   "metadata": {},
   "outputs": [
    {
     "data": {
      "text/html": [
       "<div>\n",
       "<style scoped>\n",
       "    .dataframe tbody tr th:only-of-type {\n",
       "        vertical-align: middle;\n",
       "    }\n",
       "\n",
       "    .dataframe tbody tr th {\n",
       "        vertical-align: top;\n",
       "    }\n",
       "\n",
       "    .dataframe thead th {\n",
       "        text-align: right;\n",
       "    }\n",
       "</style>\n",
       "<table border=\"1\" class=\"dataframe\">\n",
       "  <thead>\n",
       "    <tr style=\"text-align: right;\">\n",
       "      <th></th>\n",
       "      <th>CL_NM</th>\n",
       "      <th>AREA_NM</th>\n",
       "      <th>ADDR</th>\n",
       "      <th>ALL_TOTAL_CO</th>\n",
       "      <th>property</th>\n",
       "    </tr>\n",
       "  </thead>\n",
       "  <tbody>\n",
       "    <tr>\n",
       "      <th>368</th>\n",
       "      <td>음식점</td>\n",
       "      <td>고집돌우럭(중문)</td>\n",
       "      <td>제주특별자치도 서귀포시 일주서로 879</td>\n",
       "      <td>999.0</td>\n",
       "      <td>1</td>\n",
       "    </tr>\n",
       "    <tr>\n",
       "      <th>401</th>\n",
       "      <td>음식점</td>\n",
       "      <td>고집돌우럭(제주공항점)</td>\n",
       "      <td>제주특별자치도 제주시 임항로 30</td>\n",
       "      <td>901.0</td>\n",
       "      <td>1</td>\n",
       "    </tr>\n",
       "    <tr>\n",
       "      <th>2900</th>\n",
       "      <td>쇼핑</td>\n",
       "      <td>바이올가 영어마을점</td>\n",
       "      <td>제주특별자치도 서귀포시 대정읍 에듀시티로 40</td>\n",
       "      <td>94.0</td>\n",
       "      <td>1</td>\n",
       "    </tr>\n",
       "  </tbody>\n",
       "</table>\n",
       "</div>"
      ],
      "text/plain": [
       "     CL_NM       AREA_NM                       ADDR  ALL_TOTAL_CO  property\n",
       "368    음식점     고집돌우럭(중문)      제주특별자치도 서귀포시 일주서로 879         999.0         1\n",
       "401    음식점  고집돌우럭(제주공항점)         제주특별자치도 제주시 임항로 30         901.0         1\n",
       "2900    쇼핑    바이올가 영어마을점  제주특별자치도 서귀포시 대정읍 에듀시티로 40          94.0         1"
      ]
     },
     "execution_count": 21,
     "metadata": {},
     "output_type": "execute_result"
    }
   ],
   "source": [
    "visitJeju_total[visitJeju_total['property']==1]"
   ]
  },
  {
   "cell_type": "code",
   "execution_count": null,
   "metadata": {},
   "outputs": [],
   "source": []
  }
 ],
 "metadata": {
  "kernelspec": {
   "display_name": "Python 3 (ipykernel)",
   "language": "python",
   "name": "python3"
  },
  "language_info": {
   "codemirror_mode": {
    "name": "ipython",
    "version": 3
   },
   "file_extension": ".py",
   "mimetype": "text/x-python",
   "name": "python",
   "nbconvert_exporter": "python",
   "pygments_lexer": "ipython3",
   "version": "3.8.13"
  },
  "vscode": {
   "interpreter": {
    "hash": "0024c24e332fc8d4139c7d9856478a3fdcd14b2d970d4f9f403652f97d133979"
   }
  }
 },
 "nbformat": 4,
 "nbformat_minor": 2
}
